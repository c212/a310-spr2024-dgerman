{
  "nbformat": 4,
  "nbformat_minor": 0,
  "metadata": {
    "colab": {
      "provenance": []
    },
    "kernelspec": {
      "name": "python3",
      "display_name": "Python 3"
    },
    "language_info": {
      "name": "python"
    }
  },
  "cells": [
    {
      "cell_type": "code",
      "execution_count": 1,
      "metadata": {
        "colab": {
          "base_uri": "https://localhost:8080/"
        },
        "id": "w0EtiW3Rbtjx",
        "outputId": "3952c87e-4378-47ca-914f-23c9bb64365c"
      },
      "outputs": [
        {
          "output_type": "stream",
          "name": "stdout",
          "text": [
            "<?xml version=\"1.0\" encoding=\"utf-8\"?>\n",
            "<!DOCTYPE html PUBLIC \"-//W3C//DTD XHTML 1.0 Strict//EN\" \"http://www.w3.org/TR/xhtml1/DTD/xhtml1-strict.dtd\">\n",
            "<html xmlns=\"http://www.w3.org/1999/xhtml\" xml:lang=\"en-US\" lang=\"en-US\">\n",
            "  <head><meta http-equiv=\"Content-Type\" content=\"text/html; charset=utf-8\">\n",
            "\n",
            "    <title>Bradford Tuckfield</title>\n",
            "    <meta name=\"description\" content=\"Bradford Tuckfield\" />\n",
            "    <meta name=\"keywords\" content=\"Bradford Tuckfield\" />\n",
            "    <meta name=\"google-site-verification\" content=\"eNw-LEFxVf71e-ZlYnv5tGSxTZ7V32coMCV9bxS3MGY\" />\n",
            "<link rel=\"stylesheet\" type=\"text/css\" href=\n"
          ]
        }
      ],
      "source": [
        "import requests\n",
        "urltoget = 'https://bradfordtuckfield.com/indexarchive20210903.html'\n",
        "pagecode = requests.get(urltoget)\n",
        "print(pagecode.text[0:600])"
      ]
    },
    {
      "cell_type": "code",
      "source": [
        "pagecode.text"
      ],
      "metadata": {
        "colab": {
          "base_uri": "https://localhost:8080/",
          "height": 174
        },
        "id": "n8_rv4x5pS8a",
        "outputId": "1377b8df-5b77-45b2-d896-9feb7a6f8a7d"
      },
      "execution_count": 2,
      "outputs": [
        {
          "output_type": "execute_result",
          "data": {
            "text/plain": [
              "'<?xml version=\"1.0\" encoding=\"utf-8\"?>\\n<!DOCTYPE html PUBLIC \"-//W3C//DTD XHTML 1.0 Strict//EN\" \"http://www.w3.org/TR/xhtml1/DTD/xhtml1-strict.dtd\">\\n<html xmlns=\"http://www.w3.org/1999/xhtml\" xml:lang=\"en-US\" lang=\"en-US\">\\n  <head><meta http-equiv=\"Content-Type\" content=\"text/html; charset=utf-8\">\\n\\n    <title>Bradford Tuckfield</title>\\n    <meta name=\"description\" content=\"Bradford Tuckfield\" />\\n    <meta name=\"keywords\" content=\"Bradford Tuckfield\" />\\n    <meta name=\"google-site-verification\" content=\"eNw-LEFxVf71e-ZlYnv5tGSxTZ7V32coMCV9bxS3MGY\" />\\n<link rel=\"stylesheet\" type=\"text/css\" href=\"bradfordtuckfieldstylesheet.css\" />\\n<link rel=\"shortcut icon\" href=\"cubic.png\">\\n\\n<meta name=\"author\" content=\"Bradford Tuckfield\" />\\n\\n</head>\\n\\n\\n\\n<body >\\n<p style=\"line-height:1.3\">\\nMy books:\\n<br/>\\n\\n<a href=\"https://nostarch.com/Dive-Into-Algorithms\" target=\"_blank\">Dive Into Algorithms</a> <a href=\"https://www.penguinrandomhouse.com/books/645953/dive-into-algorithms-by-bradford-tuckfield/9781718500686/\" target=\"_blank\">(Penguin Random House)</a> <a href=\"https://www.amazon.com/dp/1718500688\" target=\"_blank\">(Amazon)</a><!--(<a href=\"algorithms-for-the-adventurous_v00.png\" target=\"_blank\">draft cover</a>)\\n-->\\n\\n<br/>\\n<a href=\"https://www.amazon.com/Applied-Unsupervised-Learning-relationships-hierarchical/dp/1789956390/\" target=\"_blank\">Applied Unsupervised Learning with R</a> <a href=\\'final20190428.pdf\\'>(pdf)</a>\\n<br/>\\nData Science for Business (under contract with No Starch Press)\\n<br/>\\n<br/>\\n\\n\\n    \\nMy current projects:\\n<br/>\\n<a href=\"http://thedreamtigers.com/\" target=\"_blank\">Dreamtigers</a>\\n<br/>\\n<a href=\"https://kmbara.com\" target=\"_blank\">Kmbara Data Science Consulting</a>\\n<br/>\\n\\n<!--<a href=\"https://ceres.enviro.ai/\" target=\"_blank\">CERES Environmental AI</a>\\n<br/>-->\\n\\n    \\n\\n\\n<!--My current project:\\n<br/>\\n<a href=\"http://198.58.101.44/chestxray/\" target=\"_blank\">Chest X-Ray Diagnosis</a>\\n<br/>\\n<br/>-->\\n\\n\\n<br/>\\n\\nMy writing:\\n\\n\\n<br/>\\n<a href=\"https://www.theamericanconservative.com/author/bradford-tuckfield/\" target=\"_blank\">The American Conservative</a>\\n<br/>\\n<a href=\"http://www.the-american-interest.com/byline/bradford-tuckfield/\" target=\"_blank\">The American Interest</a> (<a href=\\'tai.pdf\\' target=\\'_blank\\'>2017 pdf</a>, <a href=\\'tai2018.pdf\\' target=\\'_blank\\'>2018 pdf</a>)\\n<br/>\\n<a href=\"https://www.nationalaffairs.com/authors/detail/bradford-tuckfield\" target=\"_blank\">National Affairs (online, subscribers only)</a>, <a href=\"nationalaffairs.pdf\" target=\"_blank\">pdf (preprint galley)</a>\\n<br/>\\n<a href=\"https://americanaffairsjournal.org/2017/10/the-incoherence-of-the-economists/\" target=\"_blank\">American Affairs</a>\\n<br/>\\n\\n<a href=\"borges.pdf\" target=\"_blank\">Irreantum</a>\\n\\n<br/>\\n\\n<a href=\"https://quillette.com/author/bradford-tuckfield/\" target=\"_blank\">Quillette</a>, (<a href=\"https://vitadabrutto.wordpress.com/2019/03/13/disuguaglianze-estetiche-ed-economia-del-sesso/\" target=\"_blank\">Italian translation</a>)\\n<br/>\\n<a href=\"https://nas.org/blogs/dicta/avoiding_scholarships_dead_ends\" target=\"_blank\">National Association of Scholars</a>\\n<br/>\\n\\n<a href=\"http://www.newenglishreview.org/custpage.cfm/frm/167043/sec_id/167043\" target=\"_blank\">New English Review</a>\\n<br/>\\n<a href=\"https://web.archive.org/web/20170705161916/http://www.tasteofcinema.com/2016/10-great-movies-every-conservative-should-see/\" target=\"_blank\">Taste of Cinema</a>\\n<br/>\\n<a href=\"http://www.theimaginativeconservative.org/author/bradford-tuckfield\" target=\"_blank\">The Imaginative Conservative</a>, (<a href=\"https://www.estibordo.org/post/68221\" target=\"_blank\">Portuguese translation</a>)\\n\\n\\n\\n\\n\\n<br/>\\n<a href=\"http://www.datasciencecentral.com/profiles/blog/list?user=2zu0dmefus2gu\" target=\"_blank\">Data Science Central</a>\\n<br/>\\n<a href=\"http://interpreterfoundation.org/gods-laughter/\" target=\"_blank\">Interpreter</a>\\n<br/>\\n\\n\\n<br/>\\n\\n\\nMy patent:\\n<br/>\\n<a href=\"https://patft.uspto.gov/netacgi/nph-Parser?Sect1=PTO1&Sect2=HITOFF&p=1&u=/netahtml/PTO/srchnum.html&r=1&f=G&l=50&d=PALL&s1=11068477.PN.\" target=\"_blank\">NLP to populate SQL queries</a>\\n<br/>\\n\\n<br/>\\n\\nMy courses:\\n<br/>\\n<a href=\"https://www.udacity.com/course/machine-learning-dev-ops-engineer-nanodegree--nd0821\" target=\"_blank\">Machine Learning DevOps - Udacity</a>\\n<br/>\\nMachine Learning Engineering - Udacity (in progress)\\n\\n<br/>\\n\\n<br/>\\n\\nMy research:\\n<br/>\\n<a href=\"jordan.pdf\" target=\"_blank\">Journal of Linear Algebra and Its Applications</a>\\n<br/>\\n<a href=\"http://amj.aom.org/content/early/2017/08/23/amj.2014.1045.abstract\" target=\"_blank\">Academy of Management Journal</a> <a href=\"https://papers.ssrn.com/sol3/papers.cfm?abstract_id=3022656\" target=\"_blank\">(SSRN)</a>\\n<br/>\\n<a href=\"https://journals.aom.org/doi/abs/10.5465/ambpp.2014.17102symposium\" target=\"_blank\">Academy of Management Proceedings</a>\\n<br/>\\n<a href=\"https://jamanetwork.com/journals/jamanetworkopen/fullarticle/2748659\" target=\"_blank\">JAMA Network Open</a>\\n<br/>\\n<a href=\"https://hbswk.hbs.edu/item/the-role-of-incentive-salience-in-habit-formation\" target=\"_blank\">HBS Working Paper 16-090</a>\\n<br/>\\n<a href=https://iopscience.iop.org/article/10.1088/1742-6596/1642/1/012014/meta target=\"_blank\">Journal of Physics: Conference Series</a>\\n<br/>\\n<br/>\\n\\nSites I run:\\n<br/>\\n<!--<a href=\"http://fiveingold.com/\" target=\"_blank\">Top 5 Stocks and Currencies</a>\\n<br/>-->\\n<a href=\"http://petalokasi.org/\" target=\"_blank\">Indonesian Places</a>\\n<br/>\\n<a href=\"http://harga-emas.net/\" target=\"_blank\">Indonesian Gold Prices</a>\\n<br/>\\n<a href=\"http://198.58.101.44/sidebylado/\" target=\"_blank\">Language Learning</a>\\n<br/>\\n<!--<a href=\"http://the-dilettante.com/\" target=\"_blank\">Commentary</a>\\n<br/>\\n<a href=\"http://quantfoodie.com/\" target=\"_blank\">Trending Restaurants</a>\\n<br/>-->\\n<!--<a href=\"http://bofmstats.com/\" target=\"_blank\">Book of Mormon Statistics</a>\\n<br/>\\n<a href=\"https://twitter.com/MormonThinker\" target=\"_blank\">@MormonThinker on Twitter</a>-->\\n\\n<br/>\\nMy translations<br />\\n<a href=\"http://media2.ldscdn.org/assets/general-conference/april-2011-general-conference/2011-04-1010-president-thomas-s-monson-64k-msa.mp3\" target=\"_blank\">LDS General Conference 1 (Malay)</a><br />\\n<a href=\"http://media2.ldscdn.org/assets/general-conference/april-2011-general-conference/2011-04-2040-president-boyd-k-packer-64k-msa.mp3\" target=\"_blank\">LDS General Conference 2 (Malay)</a><br />\\n<a href=\"http://media2.ldscdn.org/assets/general-conference/october-2010-general-conference/2010-10-3060-president-thomas-s-monson-64k-msa.mp3\" target=\"_blank\">LDS General Conference 3 (Malay)</a><br />\\n<br/>\\n\\nMy videos<br />\\n<a href=\"https://www.youtube.com/watch?v=2PjTrcxLa-I\" target=\"_blank\">ESL for Burmese speakers #1</a>\\n<br/>\\n<a href=\"https://www.youtube.com/watch?v=eUjXAO81FCA&amp;t=29s\" target=\"_blank\">ESL for Burmese speakers #2</a>\\n<br/>\\n<br/>\\n\\n\\nMiscellaneous<br />\\n<a href=\"http://bradfordtuckfield.com/iban.html\" target=\"_blank\">Iban Language</a><br />\\n\\n\\n</p>\\n\\n\\n\\n\\n<br/>\\n<br/>\\nMy email address: contact@bradfordtuckfield.com\\n\\n<script>\\n  (function(i,s,o,g,r,a,m){i[\\'GoogleAnalyticsObject\\']=r;i[r]=i[r]||function(){\\n  (i[r].q=i[r].q||[]).push(arguments)},i[r].l=1*new Date();a=s.createElement(o),\\n  m=s.getElementsByTagName(o)[0];a.async=1;a.src=g;m.parentNode.insertBefore(a,m)\\n  })(window,document,\\'script\\',\\'//www.google-analytics.com/analytics.js\\',\\'ga\\');\\n\\n  ga(\\'create\\', \\'UA-51805258-14\\', \\'auto\\');\\n  ga(\\'send\\', \\'pageview\\');\\n\\n</script>\\n\\n</body>\\n</html>'"
            ],
            "application/vnd.google.colaboratory.intrinsic+json": {
              "type": "string"
            }
          },
          "metadata": {},
          "execution_count": 2
        }
      ]
    },
    {
      "cell_type": "code",
      "source": [
        "urltoget = 'https://bradfordtuckfield.com/contactscrape.html'\n",
        "pagecode = requests.get(urltoget)\n",
        "mail_beginning=pagecode.text.find('Email:')\n",
        "print(mail_beginning)"
      ],
      "metadata": {
        "colab": {
          "base_uri": "https://localhost:8080/"
        },
        "id": "ItNsttZ3b7Xl",
        "outputId": "2fb46c22-8d04-487c-beca-5f65ee54a8d7"
      },
      "execution_count": 3,
      "outputs": [
        {
          "output_type": "stream",
          "name": "stdout",
          "text": [
            "511\n"
          ]
        }
      ]
    },
    {
      "cell_type": "code",
      "source": [
        "print(pagecode.text[(mail_beginning):(mail_beginning+80)])"
      ],
      "metadata": {
        "colab": {
          "base_uri": "https://localhost:8080/"
        },
        "id": "sOyzYUN7cC3R",
        "outputId": "1ac6a774-4dd1-44f2-c9aa-2d497990e950"
      },
      "execution_count": 4,
      "outputs": [
        {
          "output_type": "stream",
          "name": "stdout",
          "text": [
            "Email:  <label class=\"email\" href=\"#\">demo@bradfordtuckfield.com</label>\r\n",
            "</div>\n"
          ]
        }
      ]
    },
    {
      "cell_type": "code",
      "source": [
        "print(pagecode.text[(mail_beginning+38):(mail_beginning+64)])"
      ],
      "metadata": {
        "colab": {
          "base_uri": "https://localhost:8080/"
        },
        "id": "h9Veir8rcGIG",
        "outputId": "91d461ce-d1ca-4db7-d6ba-d22b73555179"
      },
      "execution_count": 5,
      "outputs": [
        {
          "output_type": "stream",
          "name": "stdout",
          "text": [
            "demo@bradfordtuckfield.com\n"
          ]
        }
      ]
    },
    {
      "cell_type": "code",
      "source": [
        "urltoget = 'https://bradfordtuckfield.com/contactscrape.html'\n",
        "pagecode = requests.get(urltoget)\n",
        "at_beginning=pagecode.text.find('@')\n",
        "print(at_beginning)"
      ],
      "metadata": {
        "colab": {
          "base_uri": "https://localhost:8080/"
        },
        "id": "TlgmBUQZcKIC",
        "outputId": "0d027e15-d53e-49e7-ecbd-efbd046dad6f"
      },
      "execution_count": 6,
      "outputs": [
        {
          "output_type": "stream",
          "name": "stdout",
          "text": [
            "553\n"
          ]
        }
      ]
    },
    {
      "cell_type": "code",
      "source": [
        "print(pagecode.text[(at_beginning-4):(at_beginning+22)])"
      ],
      "metadata": {
        "colab": {
          "base_uri": "https://localhost:8080/"
        },
        "id": "XfKtq2QqcNuJ",
        "outputId": "9b32ee3f-6287-44e2-e8f2-5afbaab69b28"
      },
      "execution_count": 7,
      "outputs": [
        {
          "output_type": "stream",
          "name": "stdout",
          "text": [
            "demo@bradfordtuckfield.com\n"
          ]
        }
      ]
    },
    {
      "cell_type": "code",
      "source": [
        "import re\n",
        "print(re.search(r'recommend','irrelevant text I recommend irrelevant text').span())"
      ],
      "metadata": {
        "colab": {
          "base_uri": "https://localhost:8080/"
        },
        "id": "lt-YUSTAcT9h",
        "outputId": "483be576-e90f-4307-a8ce-cfdcacd6b453"
      },
      "execution_count": 8,
      "outputs": [
        {
          "output_type": "stream",
          "name": "stdout",
          "text": [
            "(18, 27)\n"
          ]
        }
      ]
    },
    {
      "cell_type": "code",
      "source": [
        "import re\n",
        "print(re.search('rec+om+end', 'irrelevant text I recommend irrelevant text').span())"
      ],
      "metadata": {
        "colab": {
          "base_uri": "https://localhost:8080/"
        },
        "id": "uv_mEpQZcYuV",
        "outputId": "0d7da718-26ca-4aa3-fcce-ffc18bc9b658"
      },
      "execution_count": null,
      "outputs": [
        {
          "output_type": "stream",
          "name": "stdout",
          "text": [
            "(18, 27)\n"
          ]
        }
      ]
    },
    {
      "cell_type": "code",
      "source": [
        "import re\n",
        "print(re.search('rec+om+end','irrelevant text I recomend irrelevant text').span())\n",
        "print(re.search('rec+om+end','irrelevant text I reccommend irrelevant text').span())\n",
        "print(re.search('rec*om+end','irrelevant text I reommend irrelevant text').span())\n",
        "print(re.search('rec+om+end*','irrelevant text I recomment irrelevant text').span())"
      ],
      "metadata": {
        "colab": {
          "base_uri": "https://localhost:8080/"
        },
        "id": "uuhWZmg7ce66",
        "outputId": "93d5368d-b863-4e29-fc81-29f62aad29fc"
      },
      "execution_count": 11,
      "outputs": [
        {
          "output_type": "stream",
          "name": "stdout",
          "text": [
            "(18, 26)\n",
            "(18, 28)\n",
            "(18, 26)\n",
            "(18, 26)\n"
          ]
        }
      ]
    },
    {
      "cell_type": "code",
      "source": [
        "re.search('10*','My bank balance is 100').span()"
      ],
      "metadata": {
        "colab": {
          "base_uri": "https://localhost:8080/"
        },
        "id": "63Xw4R_ZclvL",
        "outputId": "dd1a32b4-aecd-4723-b6f4-6b8ce2bbad9f"
      },
      "execution_count": 12,
      "outputs": [
        {
          "output_type": "execute_result",
          "data": {
            "text/plain": [
              "(19, 22)"
            ]
          },
          "metadata": {},
          "execution_count": 12
        }
      ]
    },
    {
      "cell_type": "code",
      "source": [
        "import re\n",
        "print(re.search('10*','My bank balance is 1').span())\n",
        "print(re.search('10*','My bank balance is 1000').span())\n",
        "print(re.search('1?0*','My bank balance is 9000').span())\n",
        "print(re.search('10*','My bank balance is 1000000').span())"
      ],
      "metadata": {
        "colab": {
          "base_uri": "https://localhost:8080/"
        },
        "id": "_n6WgzREcvui",
        "outputId": "4718773a-a87a-44f9-a8c1-93aaca7e438f"
      },
      "execution_count": 16,
      "outputs": [
        {
          "output_type": "stream",
          "name": "stdout",
          "text": [
            "(19, 20)\n",
            "(19, 23)\n",
            "(0, 0)\n",
            "(19, 26)\n"
          ]
        }
      ]
    },
    {
      "cell_type": "code",
      "source": [
        "print(re.search('Clarke?','Please refer questions to Mr. Clark').span())"
      ],
      "metadata": {
        "colab": {
          "base_uri": "https://localhost:8080/"
        },
        "id": "OqLIeztncycv",
        "outputId": "740865e3-ac87-489d-d49f-da3965240f80"
      },
      "execution_count": 15,
      "outputs": [
        {
          "output_type": "stream",
          "name": "stdout",
          "text": [
            "(30, 35)\n"
          ]
        }
      ]
    },
    {
      "cell_type": "code",
      "source": [
        "re.search('99\\+12=111','Example addition: 99+12=111').span()"
      ],
      "metadata": {
        "colab": {
          "base_uri": "https://localhost:8080/"
        },
        "id": "httFaaFkc2L-",
        "outputId": "73341cb9-9abf-409d-cc31-b6e26eb5165d"
      },
      "execution_count": 18,
      "outputs": [
        {
          "output_type": "execute_result",
          "data": {
            "text/plain": [
              "(18, 27)"
            ]
          },
          "metadata": {},
          "execution_count": 18
        }
      ]
    },
    {
      "cell_type": "code",
      "source": [
        "re.search('99+12=111','Incorrect fact: 999912=111').span()"
      ],
      "metadata": {
        "colab": {
          "base_uri": "https://localhost:8080/"
        },
        "id": "-1YbyeoSc7Cw",
        "outputId": "508f6397-8398-4948-95bd-f874eb698bf0"
      },
      "execution_count": 19,
      "outputs": [
        {
          "output_type": "execute_result",
          "data": {
            "text/plain": [
              "(16, 26)"
            ]
          },
          "metadata": {},
          "execution_count": 19
        }
      ]
    },
    {
      "cell_type": "code",
      "source": [
        "re.search('99\\+12=111','Example addition: 99+12=111').span()"
      ],
      "metadata": {
        "colab": {
          "base_uri": "https://localhost:8080/"
        },
        "id": "khjmPyBJdAnU",
        "outputId": "2c93e87b-74e3-4770-e1da-65955b553795"
      },
      "execution_count": 20,
      "outputs": [
        {
          "output_type": "execute_result",
          "data": {
            "text/plain": [
              "(18, 27)"
            ]
          },
          "metadata": {},
          "execution_count": 20
        }
      ]
    },
    {
      "cell_type": "code",
      "source": [
        "re.search('Clarke\\?','Is anyone here named Clarke?').span()"
      ],
      "metadata": {
        "colab": {
          "base_uri": "https://localhost:8080/"
        },
        "id": "GdRXQZdpdDjt",
        "outputId": "bdc9a366-3861-4b0f-f91c-305c5dd3fba4"
      },
      "execution_count": 21,
      "outputs": [
        {
          "output_type": "execute_result",
          "data": {
            "text/plain": [
              "(21, 28)"
            ]
          },
          "metadata": {},
          "execution_count": 21
        }
      ]
    },
    {
      "cell_type": "code",
      "source": [
        "re.search(r'\\\\',r'The escape character is \\\\').span()"
      ],
      "metadata": {
        "colab": {
          "base_uri": "https://localhost:8080/"
        },
        "id": "1kBH1chQdHIY",
        "outputId": "1e79ae18-7050-4cae-b7a3-e57281118440"
      },
      "execution_count": 22,
      "outputs": [
        {
          "output_type": "execute_result",
          "data": {
            "text/plain": [
              "(24, 25)"
            ]
          },
          "metadata": {},
          "execution_count": 22
        }
      ]
    },
    {
      "cell_type": "code",
      "source": [
        "re.search('\\d','The loneliest number is 1').span()"
      ],
      "metadata": {
        "colab": {
          "base_uri": "https://localhost:8080/"
        },
        "id": "j1y-GaBBdJ0R",
        "outputId": "f7d89c36-c048-49fe-e273-0ba37e47354c"
      },
      "execution_count": 23,
      "outputs": [
        {
          "output_type": "execute_result",
          "data": {
            "text/plain": [
              "(24, 25)"
            ]
          },
          "metadata": {},
          "execution_count": 23
        }
      ]
    },
    {
      "cell_type": "code",
      "source": [
        "re.search('[a-z]','My Twitter is @fake; my email is abc@def.com').span()"
      ],
      "metadata": {
        "colab": {
          "base_uri": "https://localhost:8080/"
        },
        "id": "LAuOKZPsdOAh",
        "outputId": "8aa9d3d1-e06e-4348-9491-6bd130dbce82"
      },
      "execution_count": 27,
      "outputs": [
        {
          "output_type": "execute_result",
          "data": {
            "text/plain": [
              "(1, 2)"
            ]
          },
          "metadata": {},
          "execution_count": 27
        }
      ]
    },
    {
      "cell_type": "code",
      "source": [
        "re.search('[A-Z]','My Twitter is @fake; my email is abc@def.com').span()"
      ],
      "metadata": {
        "colab": {
          "base_uri": "https://localhost:8080/"
        },
        "id": "C2-2-IM3dQ91",
        "outputId": "5c4da51e-8272-471c-e8a8-e4acc24c6f9f"
      },
      "execution_count": 28,
      "outputs": [
        {
          "output_type": "execute_result",
          "data": {
            "text/plain": [
              "(0, 1)"
            ]
          },
          "metadata": {},
          "execution_count": 28
        }
      ]
    },
    {
      "cell_type": "code",
      "source": [
        "re.search('Manchac[a|k]','Lets drive on Manchaca.').span()"
      ],
      "metadata": {
        "colab": {
          "base_uri": "https://localhost:8080/"
        },
        "id": "b_D3F621dVvA",
        "outputId": "1d638d9b-9c95-40d7-da58-2ab7f8fcbd9c"
      },
      "execution_count": 29,
      "outputs": [
        {
          "output_type": "execute_result",
          "data": {
            "text/plain": [
              "(14, 22)"
            ]
          },
          "metadata": {},
          "execution_count": 29
        }
      ]
    },
    {
      "cell_type": "code",
      "source": [
        "re.search('school.*\\.pdf$','schoolforgottenname.pdf').span()"
      ],
      "metadata": {
        "colab": {
          "base_uri": "https://localhost:8080/"
        },
        "id": "BG6qDYGPdavo",
        "outputId": "0c231e3e-2378-48fd-907c-e4a75779a31d"
      },
      "execution_count": 30,
      "outputs": [
        {
          "output_type": "execute_result",
          "data": {
            "text/plain": [
              "(0, 23)"
            ]
          },
          "metadata": {},
          "execution_count": 30
        }
      ]
    },
    {
      "cell_type": "code",
      "source": [
        "import re\n",
        "print(re.search('school.*\\.pdf$','schoolforgottenname.pdf').span())\n",
        "print(re.search('school.*\\.pdf$','school.pdf').span())\n",
        "print(re.search('school.*\\.pdf$','schoolothername.pdf').span())\n",
        "print(re.search('(school|.*).*\\.pdf$','othername.pdf').span())\n",
        "print(re.search('school.*\\.?pdf$','schoolothernamepdf').span())\n",
        "print(re.search('school.*\\.pdf.*$','schoolforgottenname.pdf.exe').span())"
      ],
      "metadata": {
        "colab": {
          "base_uri": "https://localhost:8080/"
        },
        "id": "T3vb466Ydeyv",
        "outputId": "66157c4d-2587-4e29-b4ad-7b6346978235"
      },
      "execution_count": 34,
      "outputs": [
        {
          "output_type": "stream",
          "name": "stdout",
          "text": [
            "(0, 23)\n",
            "(0, 10)\n",
            "(0, 19)\n",
            "(0, 13)\n",
            "(0, 18)\n",
            "(0, 27)\n"
          ]
        }
      ]
    },
    {
      "cell_type": "code",
      "source": [
        "re.search('[a-zA-Z]+@[a-zA-Z]+\\.[a-zA-Z]+',\\\n",
        "'My Twitter is @fake; my email is abc@def.com').span()"
      ],
      "metadata": {
        "colab": {
          "base_uri": "https://localhost:8080/"
        },
        "id": "UQfGbt4udhmM",
        "outputId": "528bdd1a-e8a6-45b0-d337-39649d47db2e"
      },
      "execution_count": 35,
      "outputs": [
        {
          "output_type": "execute_result",
          "data": {
            "text/plain": [
              "(33, 44)"
            ]
          },
          "metadata": {},
          "execution_count": 35
        }
      ]
    },
    {
      "cell_type": "code",
      "source": [
        "import requests\n",
        "urltoget = 'https://bradfordtuckfield.com/contactscrape2.html'\n",
        "pagecode = requests.get(urltoget)"
      ],
      "metadata": {
        "id": "X0pjNKX5ds0d"
      },
      "execution_count": 36,
      "outputs": []
    },
    {
      "cell_type": "code",
      "source": [
        "allmatches=re.finditer('[a-zA-Z]+@[a-zA-Z]+\\.[a-zA-Z]+',pagecode.text)"
      ],
      "metadata": {
        "id": "B_TrWqx_dw4R"
      },
      "execution_count": 37,
      "outputs": []
    },
    {
      "cell_type": "code",
      "source": [
        "alladdresses = []\n",
        "for match in allmatches:\n",
        "    alladdresses.append(match[0])\n",
        "print(alladdresses)"
      ],
      "metadata": {
        "colab": {
          "base_uri": "https://localhost:8080/"
        },
        "id": "UEnck4-Odzh6",
        "outputId": "e386f814-7fec-4d70-920a-b1c95fa6b4c9"
      },
      "execution_count": 38,
      "outputs": [
        {
          "output_type": "stream",
          "name": "stdout",
          "text": [
            "['abc@abc.com', 'def@def.com', 'ghi@ghi.com', 'jkl@jkl.org', 'mno@mno.net', 'pqr@pqr.edu', 'stu@stu.com']\n"
          ]
        }
      ]
    },
    {
      "cell_type": "code",
      "source": [
        "import pandas as pd\n",
        "alladdpd=pd.DataFrame(alladdresses)\n",
        "print(alladdpd)"
      ],
      "metadata": {
        "colab": {
          "base_uri": "https://localhost:8080/"
        },
        "id": "T4Fw0riQd2Qo",
        "outputId": "1d9bf203-066e-4f06-f838-a4813977a4a8"
      },
      "execution_count": 39,
      "outputs": [
        {
          "output_type": "stream",
          "name": "stdout",
          "text": [
            "             0\n",
            "0  abc@abc.com\n",
            "1  def@def.com\n",
            "2  ghi@ghi.com\n",
            "3  jkl@jkl.org\n",
            "4  mno@mno.net\n",
            "5  pqr@pqr.edu\n",
            "6  stu@stu.com\n"
          ]
        }
      ]
    },
    {
      "cell_type": "code",
      "source": [
        "alladdpd=alladdpd.sort_values(0,ascending=False)\n",
        "alladdpd.to_csv('alladdpd20220720.csv')"
      ],
      "metadata": {
        "id": "dxsyMh6-d6If"
      },
      "execution_count": 40,
      "outputs": []
    },
    {
      "cell_type": "code",
      "source": [
        "import requests\n",
        "from bs4 import BeautifulSoup\n",
        "URL = 'https://bradfordtuckfield.com/indexarchive20210903.html'\n",
        "response = requests.get(URL)\n",
        "soup = BeautifulSoup(response.text, 'lxml')\n",
        "all_urls = soup.find_all('a')\n",
        "for each in all_urls:\n",
        "  print(each['href'])"
      ],
      "metadata": {
        "colab": {
          "base_uri": "https://localhost:8080/"
        },
        "id": "arM5Q6Vod-Bw",
        "outputId": "a64fcbd2-7ab7-44cf-f8af-2627a0fc2060"
      },
      "execution_count": 41,
      "outputs": [
        {
          "output_type": "stream",
          "name": "stdout",
          "text": [
            "https://nostarch.com/Dive-Into-Algorithms\n",
            "https://www.penguinrandomhouse.com/books/645953/dive-into-algorithms-by-bradford-tuckfield/9781718500686/\n",
            "https://www.amazon.com/dp/1718500688\n",
            "https://www.amazon.com/Applied-Unsupervised-Learning-relationships-hierarchical/dp/1789956390/\n",
            "final20190428.pdf\n",
            "http://thedreamtigers.com/\n",
            "https://kmbara.com\n",
            "https://www.theamericanconservative.com/author/bradford-tuckfield/\n",
            "http://www.the-american-interest.com/byline/bradford-tuckfield/\n",
            "tai.pdf\n",
            "tai2018.pdf\n",
            "https://www.nationalaffairs.com/authors/detail/bradford-tuckfield\n",
            "nationalaffairs.pdf\n",
            "https://americanaffairsjournal.org/2017/10/the-incoherence-of-the-economists/\n",
            "borges.pdf\n",
            "https://quillette.com/author/bradford-tuckfield/\n",
            "https://vitadabrutto.wordpress.com/2019/03/13/disuguaglianze-estetiche-ed-economia-del-sesso/\n",
            "https://nas.org/blogs/dicta/avoiding_scholarships_dead_ends\n",
            "http://www.newenglishreview.org/custpage.cfm/frm/167043/sec_id/167043\n",
            "https://web.archive.org/web/20170705161916/http://www.tasteofcinema.com/2016/10-great-movies-every-conservative-should-see/\n",
            "http://www.theimaginativeconservative.org/author/bradford-tuckfield\n",
            "https://www.estibordo.org/post/68221\n",
            "http://www.datasciencecentral.com/profiles/blog/list?user=2zu0dmefus2gu\n",
            "http://interpreterfoundation.org/gods-laughter/\n",
            "https://patft.uspto.gov/netacgi/nph-Parser?Sect1=PTO1&Sect2=HITOFF&p=1&u=/netahtml/PTO/srchnum.html&r=1&f=G&l=50&d=PALL&s1=11068477.PN.\n",
            "https://www.udacity.com/course/machine-learning-dev-ops-engineer-nanodegree--nd0821\n",
            "jordan.pdf\n",
            "http://amj.aom.org/content/early/2017/08/23/amj.2014.1045.abstract\n",
            "https://papers.ssrn.com/sol3/papers.cfm?abstract_id=3022656\n",
            "https://journals.aom.org/doi/abs/10.5465/ambpp.2014.17102symposium\n",
            "https://jamanetwork.com/journals/jamanetworkopen/fullarticle/2748659\n",
            "https://hbswk.hbs.edu/item/the-role-of-incentive-salience-in-habit-formation\n",
            "https://iopscience.iop.org/article/10.1088/1742-6596/1642/1/012014/meta\n",
            "http://petalokasi.org/\n",
            "http://harga-emas.net/\n",
            "http://198.58.101.44/sidebylado/\n",
            "http://media2.ldscdn.org/assets/general-conference/april-2011-general-conference/2011-04-1010-president-thomas-s-monson-64k-msa.mp3\n",
            "http://media2.ldscdn.org/assets/general-conference/april-2011-general-conference/2011-04-2040-president-boyd-k-packer-64k-msa.mp3\n",
            "http://media2.ldscdn.org/assets/general-conference/october-2010-general-conference/2010-10-3060-president-thomas-s-monson-64k-msa.mp3\n",
            "https://www.youtube.com/watch?v=2PjTrcxLa-I\n",
            "https://www.youtube.com/watch?v=eUjXAO81FCA&t=29s\n",
            "http://bradfordtuckfield.com/iban.html\n"
          ]
        },
        {
          "output_type": "stream",
          "name": "stderr",
          "text": [
            "<ipython-input-41-5f5d57aec8ee>:5: XMLParsedAsHTMLWarning: It looks like you're parsing an XML document using an HTML parser. If this really is an HTML document (maybe it's XHTML?), you can ignore or filter this warning. If it's XML, you should know that using an XML parser will be more reliable. To parse this document as XML, make sure you have the lxml package installed, and pass the keyword argument `features=\"xml\"` into the BeautifulSoup constructor.\n",
            "  soup = BeautifulSoup(response.text, 'lxml')\n"
          ]
        }
      ]
    },
    {
      "cell_type": "code",
      "source": [
        "import requests\n",
        "from bs4 import BeautifulSoup\n",
        "URL = 'https://bradfordtuckfield.com/contactscrape.html'\n",
        "response = requests.get(URL)\n",
        "soup = BeautifulSoup(response.text, 'lxml')\n",
        "email = soup.find('label',{'class':'email'}).text\n",
        "mobile = soup.find('label',{'class':'mobile'}).text\n",
        "website = soup.find('a',{'class':'website'}).text\n",
        "print(\"Email : {}\".format(email))\n",
        "print(\"Mobile : {}\".format(mobile))\n",
        "print(\"Website : {}\".format(website))"
      ],
      "metadata": {
        "colab": {
          "base_uri": "https://localhost:8080/"
        },
        "id": "v8v0ZHbueVfT",
        "outputId": "f7015e05-6037-4357-d02e-7e679cc38689"
      },
      "execution_count": 43,
      "outputs": [
        {
          "output_type": "stream",
          "name": "stdout",
          "text": [
            "Email : demo@bradfordtuckfield.com\n",
            "Mobile : +1 879-890-9767\n",
            "Website : www.bradfordtuckfield.com\n"
          ]
        }
      ]
    },
    {
      "cell_type": "code",
      "source": [
        "import requests\n",
        "from bs4 import BeautifulSoup\n",
        "URL = 'https://bradfordtuckfield.com/user_detailsscrape.html'\n",
        "response = requests.get(URL)\n",
        "soup = BeautifulSoup(response.text, 'lxml')\n",
        "all_user_entries = soup.find_all('tr',{'class':'user-details'})\n",
        "for each_user in all_user_entries:\n",
        "   user = each_user.find_all(\"td\")\n",
        "   print(\"User Firstname : {}, Lastname : {}, Age: {}\"\\\n",
        ".format(user[0].text, user[1].text, user[2].text))"
      ],
      "metadata": {
        "colab": {
          "base_uri": "https://localhost:8080/"
        },
        "id": "TPuCcIWGebA-",
        "outputId": "ccb43ff8-edec-4142-972a-220fab663730"
      },
      "execution_count": 44,
      "outputs": [
        {
          "output_type": "stream",
          "name": "stdout",
          "text": [
            "User Firstname : Jill, Lastname : Smith, Age: 50\n",
            "User Firstname : Eve, Lastname : Jackson, Age: 44\n",
            "User Firstname : John, Lastname : Jackson, Age: 24\n",
            "User Firstname : Kevin, Lastname : Snow, Age: 34\n"
          ]
        }
      ]
    },
    {
      "cell_type": "code",
      "source": [],
      "metadata": {
        "id": "BIgB-KaHeld0"
      },
      "execution_count": null,
      "outputs": []
    }
  ]
}